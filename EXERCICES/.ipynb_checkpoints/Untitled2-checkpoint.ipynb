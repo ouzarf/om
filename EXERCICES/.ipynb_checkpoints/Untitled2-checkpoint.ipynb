{
 "cells": [
  {
   "cell_type": "code",
   "execution_count": null,
   "metadata": {
    "collapsed": true
   },
   "outputs": [],
   "source": [
    "# procedure                        Python 3       Exercices corrigés  Cours no 3 PAGE 19\n",
    "def table(base, debut, fin, inc):\n",
    "    \"\"\"Affiche la table des <base>, de <debut> a <fin>, de <inc> en <inc>.\"\"\"\n",
    "    n = debut\n",
    "    while n <= fin:\n",
    "        print(n, 'x', base, '=', n*base)\n",
    "        n = n + inc\n",
    "# programme principal -----------------------------------------------\n",
    "table(7, 2, 13, 2)\n"
   ]
  },
  {
   "cell_type": "code",
   "execution_count": null,
   "metadata": {
    "collapsed": true
   },
   "outputs": [],
   "source": [
    "# import\n",
    "from math import pi\n",
    "# fonctions\n",
    "def cube(x):\n",
    "    \"\"\"Calcule le cube de l'argument.\"\"\"\n",
    "    return x**3\n",
    "def volumeSphere(r):\n",
    "    \"\"\"Calcule le volume d'une sphere de rayon <r>.\"\"\"\n",
    "    return 4 * pi * cube(r) / 3\n",
    "# programme principal -----------------------------------------------\n",
    "rayon = float(input(\"Rayon : \"))\n",
    "print(\"\\nVolume de la sphere de rayon {:.1f} : {:.3f}\"\n",
    ".format(rayon, volumeSphere(rayon)))"
   ]
  },
  {
   "cell_type": "code",
   "execution_count": null,
   "metadata": {
    "collapsed": true
   },
   "outputs": [],
   "source": [
    "# procedure                        Python 3       Exercices corrigés  Cours no 3 PAGE 19\n",
    "def table(base, debut, fin, inc):\n",
    "    \"\"\"Affiche la table des <base>, de <debut> a <fin>, de <inc> en <inc>.\"\"\"\n",
    "    n = debut\n",
    "    while n <= fin:\n",
    "        print(n, 'x', base, '=', n*base)\n",
    "        n = n + inc\n",
    "# programme principal -----------------------------------------------\n",
    "table(7, 2, 13, 2)\n"
   ]
  },
  {
   "cell_type": "code",
   "execution_count": null,
   "metadata": {
    "collapsed": true
   },
   "outputs": [],
   "source": [
    "# fonction\n",
    "def somme(a, b, c):\n",
    "    return a+b+c\n",
    "# programme principal -----------------------------------------------\n",
    "sequence = (2, 4, 6)\n",
    "print(somme(*sequence))"
   ]
  },
  {
   "cell_type": "code",
   "execution_count": null,
   "metadata": {
    "collapsed": true
   },
   "outputs": [],
   "source": [
    "# fonction\n",
    "def somme(*args):\n",
    "    resultat = 0\n",
    "    for nombre in args:\n",
    "        resultat += nombre\n",
    "    return resultat\n",
    "# programme principal -----------------------------------------------\n",
    "print(\"-\"*40)\n",
    "print(somme(23))\n",
    "print(\"\\n\", \"-\"*40)\n",
    "print(somme(-10, 13))\n",
    "print(\"\\n\", \"-\"*40)\n",
    "print(somme(23, 42, 13))\n",
    "print(\"\\n\", \"-\"*40)\n",
    "print(somme(-10.0, 12))"
   ]
  },
  {
   "cell_type": "code",
   "execution_count": null,
   "metadata": {
    "collapsed": true
   },
   "outputs": [],
   "source": [
    "# fonction\n",
    "def unDictionnaire(**kargs):\n",
    "    return kargs\n",
    "# programme principal -----------------------------------------------\n",
    "print(\" appel avec des parametres nommes \".center(60, '-'))\n",
    "print(unDictionnaire(a=23, b=42))\n",
    "\n",
    "print(\" appel avec des parametres nommes \".center(60, '-'))\n",
    "sequence = {'a':1, 'b':2}\n",
    "\n",
    "print(unDictionnaire(**sequence))\n",
    "\n",
    "print(\" appel avec un dictionnaire decompresse \".center(60, '-'))\n",
    "mots = {'d':85, 'e':14, 'f':9,'a':23, 'b':42}\n",
    "print(unDictionnaire(**mots))\n"
   ]
  },
  {
   "cell_type": "code",
   "execution_count": null,
   "metadata": {
    "collapsed": true
   },
   "outputs": [],
   "source": [
    "# programme principal -----------------------------------------------\n",
    "nombres = [17, 38, 10, 25, 72]\n",
    "print(\" Liste initiale \".center(50, '-'))\n",
    "print(nombres, '\\n')\n",
    "rien = input('\"Entree\"')\n",
    "print(\" Tri \".center(50, '-'))\n",
    "nombres.sort()\n",
    "print(nombres, '\\n')\n",
    "rien = input('\"Entree\"')\n",
    "print(\" Ajout d'un element \".center(50, '-'))\n",
    "nombres.append(12)\n",
    "print(nombres, '\\n')\n",
    "rien = input('\"Entree\"')\n",
    "print(\" Retournement \".center(50, '-'))\n",
    "nombres.reverse()\n",
    "print(nombres, '\\n')\n",
    "rien = input('\"Entree\"')\n",
    "print(\" Indice d'un element \".center(50, '-'))\n",
    "print(nombres.index(17), '\\n')\n",
    "rien = input('\"Entree\"')\n",
    "print(\" Retrait d'un element \".center(50, '-'))\n",
    "nombres.remove(38)\n",
    "print(nombres, '\\n')\n",
    "rien = input('\"Entree\"')\n",
    "print(\" Indicage \".center(50, '-'))\n",
    "print(\"nombres[1:3] =\", nombres[1:3])\n",
    "print(\"nombres[:2] =\", nombres[:2])\n",
    "print(\"nombres[2:] =\", nombres[2:])\n",
    "print(\"nombres[:] =\", nombres[:])\n",
    "print(\"nombres[-1] =\", nombres[-1])\n"
   ]
  },
  {
   "cell_type": "code",
   "execution_count": null,
   "metadata": {
    "collapsed": true
   },
   "outputs": [],
   "source": [
    "from turtle import *"
   ]
  },
  {
   "cell_type": "code",
   "execution_count": null,
   "metadata": {
    "collapsed": true
   },
   "outputs": [],
   "source": [
    "def maximum(a,b,c):\n",
    "    if ((a>b)and (b>c)):\n",
    "        return a\n",
    "    elif  ((b>a)and (b>c)):\n",
    "        return b\n",
    "    else:\n",
    "        return c\n",
    "    \n",
    " \n",
    "print(maximum(9, 5.7, 3.9))   \n",
    "\n",
    "print(maximum(4.5, 5.7, 3.9))\n",
    "\n",
    "print(maximum(4.5, 5.7, 19))"
   ]
  },
  {
   "cell_type": "code",
   "execution_count": null,
   "metadata": {
    "collapsed": true
   },
   "outputs": [],
   "source": [
    "def compteChar(char, chaine):\n",
    "    \"Renvoie le nombre de caractères ca trouvés dans la chaîne ch\"\n",
    "    i, tot = 0, 0\n",
    "    while i < len(chaine):\n",
    "        if chaine[i] == char:\n",
    "            tot = tot + 1\n",
    "        i = i + 1\n",
    "    return tot\n",
    "# test :\n",
    "print(compteChar(\"e\",\"Cette chaîne est un exemple\"))"
   ]
  },
  {
   "cell_type": "code",
   "execution_count": null,
   "metadata": {
    "collapsed": true
   },
   "outputs": [],
   "source": [
    "def indexMax(tt):\n",
    "    \"renvoie l'indice du plus grand élément de la liste tt\"\n",
    "    i, max = 0, 0\n",
    "    while i < len(tt):\n",
    "        if tt[i] > max :\n",
    "            max, imax = tt[i], i\n",
    "        i = i + 1\n",
    "    return max,imax\n",
    "\n",
    "serie = [5, 8, 2, 19, 9, 3, 6, 4]\n",
    "print(indexMax(serie))\n"
   ]
  },
  {
   "cell_type": "code",
   "execution_count": null,
   "metadata": {},
   "outputs": [],
   "source": [
    "# Entrée d'éléments dans une liste\n",
    "tt = [] # Liste à compléter (vide au départ) \n",
    "ch = \"start \" # valeur quelconque (mais non nulle)\n",
    "while ch != \"\":\n",
    "    print()\n",
    "    ch = input(\"Veuillez entrer une valeur : \")\n",
    "    if ch != \"\":\n",
    "        tt.append(float(ch)) # variante : tt.append(ch)\n",
    "# affichage de la liste :\n",
    "print(tt)"
   ]
  },
  {
   "cell_type": "code",
   "execution_count": null,
   "metadata": {},
   "outputs": [],
   "source": [
    "n = 1 # numéro de la case\n",
    "g = 1.5 # nombre de grains à y déposer\n",
    "# Pour la variante, il suffit de définir g comme <float>\n",
    "# en remplaçant la ligne ci-dessus par : g = 1.\n",
    "while n < 65 :\n",
    "    print(n, g)\n",
    "    n, g = n+1, g*2"
   ]
  },
  {
   "cell_type": "code",
   "execution_count": 12,
   "metadata": {},
   "outputs": [
    {
     "name": "stdout",
     "output_type": "stream",
     "text": [
      "Le caractère << e >> est présent dans la chaîne:  Montye python flying circus\n"
     ]
    }
   ],
   "source": [
    "# Recherche d'un caractère particulier dans une chaîne\n",
    "# Chaîne fournie au départ :\n",
    "ch = \"Montye python flying circus\"\n",
    "# Caractère à rechercher :\n",
    "cr = \"e\"\n",
    "# Recherche proprement dite :\n",
    "lc = len(ch) # nombre de caractères à tester\n",
    "i = 0 # indice du caractère en cours d'examen\n",
    "t = 0 # \"drapeau\" à lever si le caractère recherché est présent\n",
    "while i < lc:\n",
    "    if ch[i] == cr:\n",
    "        t = 1\n",
    "    i = i + 1\n",
    "# Affichage :\n",
    "print(\"Le caractère <<\", cr, end =' >> ')\n",
    "if t == 1:\n",
    "    print(\"est présent\", end =' ')\n",
    "else:\n",
    "    print(\"est inrouvable\", end =' ')\n",
    "print(\"dans la chaîne: \", ch)                "
   ]
  },
  {
   "cell_type": "code",
   "execution_count": 13,
   "metadata": {},
   "outputs": [
    {
     "name": "stdout",
     "output_type": "stream",
     "text": [
      "V*é*r*o*n*i*q*u*e\n"
     ]
    }
   ],
   "source": [
    "# Insertion d'un caractère d'espacement dans une chaîne\n",
    "# Chaîne fournie au départ :\n",
    "ch = \"Véronique\"\n",
    "# Caractère à insérer :\n",
    "cr = \"*\"\n",
    "# Le nombre de caractères à insérer est inférieur d'une unité au\n",
    "# nombre de caractères de la chaîne. On traitera donc celle-ci à\n",
    "# partir de son second caractère (en omettant le premier).\n",
    "lc = len(ch) # nombre de caractères total\n",
    "i = 1 # indice du premier caractère à examiner (le second, en fait)\n",
    "nch = ch[0] # nouvelle chaîne à construire (contient déjà le premier car.)\n",
    "while i < lc:\n",
    "    nch = nch + cr + ch[i]\n",
    "    i = i + 1\n",
    "# Affichage :\n",
    "print(nch)"
   ]
  },
  {
   "cell_type": "code",
   "execution_count": null,
   "metadata": {
    "collapsed": true
   },
   "outputs": [],
   "source": []
  }
 ],
 "metadata": {
  "kernelspec": {
   "display_name": "Python 3",
   "language": "python",
   "name": "python3"
  },
  "language_info": {
   "codemirror_mode": {
    "name": "ipython",
    "version": 3
   },
   "file_extension": ".py",
   "mimetype": "text/x-python",
   "name": "python",
   "nbconvert_exporter": "python",
   "pygments_lexer": "ipython3",
   "version": "3.6.3"
  }
 },
 "nbformat": 4,
 "nbformat_minor": 2
}
