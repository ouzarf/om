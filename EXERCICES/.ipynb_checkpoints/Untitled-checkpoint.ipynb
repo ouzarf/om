{
 "cells": [
  {
   "cell_type": "code",
   "execution_count": 2,
   "metadata": {},
   "outputs": [
    {
     "name": "stdout",
     "output_type": "stream",
     "text": [
      "\n",
      "vitesse = 2.8583865351131745\n",
      "\n",
      "--------------------------------------------------------------------------------\n",
      "\n",
      " vitesse = 2.86 m/s\n",
      "\n",
      "*-*-*-*-*-*-*-*-*-*-*-*-*-*-*-*-*-*-*-*-*-*-*-*-*-*-*-*-*-*-*-*-*-*-*-*-*-*-*-*-\n"
     ]
    }
   ],
   "source": [
    "temps = 6.892\n",
    "distance = 19.7\n",
    "vitesse = distance/temps\n",
    "print()\n",
    "print(\"vitesse =\", vitesse)\n",
    "print()\n",
    "## affichage formate :\n",
    "print(\"{}\".format(\"-\"*80))\n",
    "print(\"\\n vitesse = {:.2f} m/s\".format(vitesse)) # arrondi a 2 chiffres\n",
    "print()\n",
    "print(\"{}\".format(\"*-\"*40))"
   ]
  },
  {
   "cell_type": "code",
   "execution_count": 1,
   "metadata": {},
   "outputs": [
    {
     "name": "stdout",
     "output_type": "stream",
     "text": [
      "ton nom ? ouzarf\n",
      "age ? 57\n",
      "\n",
      "------------------------------------------------------------\n",
      "\t Nom : ouzarf \t Age : 57.0\n",
      "ton nom ? ouzarf\n",
      "age ? 57\n",
      "\n",
      "------------------------------------------------------------\n",
      "\t Nom : ouzarf\t Age : 57.0\n"
     ]
    }
   ],
   "source": [
    "nom = input(\"ton nom ? \")\n",
    "age = input(\"age ? \")\n",
    "age = float(age)\n",
    "print()\n",
    "## affichage formate :\n",
    "print(\"{}\".format(\"-\"*60))\n",
    "print(\"\\t Nom :\", nom, \"\\t Age :\", age)\n",
    "## bonnes pratiques :\n",
    "nom = input(\"ton nom ? \") # pour une chaine\n",
    "age = float(input(\"age ? \")) # sinon : transtyper explicitement\n",
    "print()\n",
    "## affichage formate :\n",
    "\n",
    "print(\"{}\\n\\t Nom : {}\\t Age : {}\".format(\"-\"*60, nom, age))"
   ]
  },
  {
   "cell_type": "code",
   "execution_count": 2,
   "metadata": {},
   "outputs": [
    {
     "name": "stdout",
     "output_type": "stream",
     "text": [
      "x ? -1\n",
      "On ne peut pas prendre la racine d'un reel negatf !\n",
      "\n",
      "Au revoir\n"
     ]
    }
   ],
   "source": [
    "# -*- coding: UTF-8 -*-\n",
    "\"\"\"Les instructions de choix.\"\"\"\n",
    "# fichier : cours2_05.py\n",
    "# auteur : Bob Cordeau\n",
    "# import\n",
    "from math import sqrt\n",
    "# programme principal -----------------------------------------------\n",
    "\n",
    "x = float(input(\"x ? \"))\n",
    "\n",
    "\n",
    "if x >= 0:\n",
    "    y = sqrt(x)\n",
    "    print(\"La racine de {:.2f} est {:.3f}\".format(x, y))\n",
    "else:\n",
    "    print(\"On ne peut pas prendre la racine d'un reel negatf !\")\n",
    "\n",
    "print(\"\\nAu revoir\")"
   ]
  },
  {
   "cell_type": "code",
   "execution_count": 5,
   "metadata": {},
   "outputs": [
    {
     "name": "stdout",
     "output_type": "stream",
     "text": [
      "Donnez deux valeurs entieres :\n",
      "n1 = 1\n",
      "n2 = 5\n",
      "\n",
      "La plus petite des deux est 1\n",
      "\n",
      "Au revoir\n"
     ]
    }
   ],
   "source": [
    "\n",
    "# programme principal -----------------------------------------------\n",
    "print(\"Donnez deux valeurs entieres :\")\n",
    "x = int(input(\"n1 = \"))\n",
    "y = int(input(\"n2 = \"))\n",
    "# ecriture classique :\n",
    "if x < y:\n",
    "    plus_petit = x\n",
    "else:\n",
    "    plus_petit = y\n",
    "# ecriture compacte :\n",
    "#                     plus_petit = x if x < y else y\n",
    "print(\"\\nLa plus petite des deux est\", plus_petit)\n",
    "print(\"\\nAu revoir\")\n"
   ]
  },
  {
   "cell_type": "code",
   "execution_count": 8,
   "metadata": {},
   "outputs": [
    {
     "name": "stdout",
     "output_type": "stream",
     "text": [
      "Donnez deux Mots  :\n",
      "m1 = ukl\n",
      "m2 = k;ukl\n",
      "\n",
      "Le premier da l ordre des deux est k;ukl\n",
      "\n",
      "Au revoir\n"
     ]
    }
   ],
   "source": [
    "\"\"\"L’ordre lexicographique est celui du dictionnaire.\n",
    "Saisir deux mots, comparez-les pour trouver le « plus petit » et affichez le résultat.\n",
    "Refaire l’exercice en utilisant l’instruction ternaire :\n",
    "<res> = <a> if <condition> else <b>\"\"\"\n",
    "# programme principal -----------------------------------------------\n",
    "print(\"Donnez deux Mots  :\")\n",
    "x = (input(\"m1 = \"))\n",
    "y = (input(\"m2 = \"))\n",
    "# ecriture classique :\n",
    "if x < y:\n",
    "    plus_petit = x\n",
    "else:\n",
    "    plus_petit = y\n",
    "# ecriture compacte :\n",
    "#                     plus_petit = x if x < y else y\n",
    "print(\"\\nLe premier da l ordre des deux est\", plus_petit)\n",
    "print(\"\\nAu revoir\")"
   ]
  },
  {
   "cell_type": "code",
   "execution_count": 9,
   "metadata": {},
   "outputs": [
    {
     "name": "stdout",
     "output_type": "stream",
     "text": [
      "Seuil pression : 2.3 \tSeuil volume ; 7.41 \n",
      "\n"
     ]
    }
   ],
   "source": [
    "# programme principal -----------------------------------------------\n",
    "p_seuil, v_seuil = 2.3, 7.41\n",
    "print(\"Seuil pression :\", p_seuil, \"\\tSeuil volume ;\", v_seuil, \"\\n\")"
   ]
  },
  {
   "cell_type": "code",
   "execution_count": 14,
   "metadata": {},
   "outputs": [
    {
     "name": "stdout",
     "output_type": "stream",
     "text": [
      "Entrez la Pression courante = 1\n",
      "Entrez le Volume courant = 8\n",
      "\t Vous pouvez diminuer le volume\n"
     ]
    }
   ],
   "source": [
    "pression = float(input(\"Entrez la Pression courante = \"))\n",
    "volume = float(input(\"Entrez le Volume courant = \"))\n",
    "if (pression > p_seuil) and (volume > v_seuil):\n",
    "    print(\"\\t pression ET volume eleves. Stoppez !\")\n",
    "elif pression > p_seuil:\n",
    "    print(\"\\t Il faut augmenter le volume\")\n",
    "elif volume > v_seuil:\n",
    "    print(\"\\t Vous pouvez diminuer le volume\")\n",
    "else:\n",
    "    print(\"\\t Tout va bien !\")\n",
    "    "
   ]
  },
  {
   "cell_type": "code",
   "execution_count": 18,
   "metadata": {},
   "outputs": [
    {
     "name": "stdout",
     "output_type": "stream",
     "text": [
      "0 1 2 3 4 5 6 7 8 9 \n",
      "\n",
      "Autre exemple :\n",
      "\n",
      "9   7   5   3   1   \n"
     ]
    }
   ],
   "source": [
    "# programme principal -----------------------------------------------\n",
    "a, b = 0, 10\n",
    "while a < b:\n",
    "    print(a, end=\" \")\n",
    "    a = a + 1\n",
    "print(\"\\n\\nAutre exemple :\\n\")\n",
    "while b: # signifie : tant que b est vrai (i-e b non nul)\n",
    "    b = b - 1\n",
    "    if b % 2 != 0:\n",
    "        print(b, end=\"   \")\n",
    "print()\n"
   ]
  },
  {
   "cell_type": "code",
   "execution_count": 21,
   "metadata": {},
   "outputs": [
    {
     "name": "stdout",
     "output_type": "stream",
     "text": [
      "Entrez un entier [1 .. 10] : 5\n",
      "\n",
      "Valeur saisie : 5\n"
     ]
    }
   ],
   "source": [
    "# programme principal -----------------------------------------------\n",
    "n = int(input(\"Entrez un entier [1 .. 10] : \"))\n",
    "while not(1 <= n <= 10):\n",
    "    n = int(input(\"Entrez un entier [1 .. 10], S.V.P. : \"))\n",
    "print(\"\\nValeur saisie :\", n)"
   ]
  },
  {
   "cell_type": "code",
   "execution_count": 24,
   "metadata": {},
   "outputs": [
    {
     "name": "stdout",
     "output_type": "stream",
     "text": [
      "-------------- Exemple 1 ---------------\n",
      "c\n",
      "i\n",
      "a\n",
      "o\n",
      "\n",
      "-------------- Exemple 2 --------------- \n",
      "\n",
      "7 / m / 2.718 / \n",
      "\n",
      "----------- idem avec format -----------\n"
     ]
    }
   ],
   "source": [
    "# programme principal -----------------------------------------------\n",
    "print(\" Exemple 1 \".center(40, '-'))\n",
    "for lettre in \"ciao\":\n",
    "    print(lettre)\n",
    "print()\n",
    "print(\" Exemple 2 \".center(40, '-'), \"\\n\")\n",
    "for i in [7, 'm', 2.718]:\n",
    "    print(i, end=\" / \")\n",
    "print(\"\\n\\n{:-^40}\".format(\" idem avec format \"))"
   ]
  },
  {
   "cell_type": "code",
   "execution_count": 2,
   "metadata": {},
   "outputs": [
    {
     "name": "stdout",
     "output_type": "stream",
     "text": [
      "--------- Instruction <range> ---------- \n",
      "\n",
      "range(0, 5)\n",
      "range(3, 10)\n",
      "range(0, 10, 2)\n",
      "\n",
      "-------- <range> dans un <for> --------- \n",
      "\n",
      "0 3 6 9 12 \n"
     ]
    }
   ],
   "source": [
    "# programme principal -----------------------------------------------\n",
    "print(\" Instruction <range> \".center(40, '-'), \"\\n\")\n",
    "print(range(5))\n",
    "print(range(3, 10))\n",
    "print(range(0, 10, 2))\n",
    "print(\"\\n\"+\" <range> dans un <for> \".center(40, '-'), \"\\n\")\n",
    "for i in range(0, 15, 3):\n",
    "    print(i, end=\" \")\n",
    "print()"
   ]
  },
  {
   "cell_type": "code",
   "execution_count": 32,
   "metadata": {},
   "outputs": [
    {
     "name": "stdout",
     "output_type": "stream",
     "text": [
      "1 2 3 4 6 7 \n"
     ]
    }
   ],
   "source": [
    "# programme principal -----------------------------------------------\n",
    "for i in range(1, 11):\n",
    "    if i == 5:\n",
    "        continue\n",
    "    # print(i, end=\" \")\n",
    "    \n",
    "    if i == 8:\n",
    "    \n",
    "        break\n",
    "    print(i, end=\" \")\n",
    "    \n",
    "print()"
   ]
  },
  {
   "cell_type": "code",
   "execution_count": 18,
   "metadata": {},
   "outputs": [
    {
     "name": "stdout",
     "output_type": "stream",
     "text": [
      "0.047 0.455 0.841 "
     ]
    },
    {
     "ename": "ZeroDivisionError",
     "evalue": "float division by zero",
     "output_type": "error",
     "traceback": [
      "\u001b[1;31m---------------------------------------------------------------------------\u001b[0m",
      "\u001b[1;31mZeroDivisionError\u001b[0m                         Traceback (most recent call last)",
      "\u001b[1;32m<ipython-input-18-d1cfbab20f69>\u001b[0m in \u001b[0;36m<module>\u001b[1;34m()\u001b[0m\n\u001b[0;32m      4\u001b[0m \u001b[1;32mfor\u001b[0m \u001b[0mx\u001b[0m \u001b[1;32min\u001b[0m \u001b[0mrange\u001b[0m\u001b[1;33m(\u001b[0m\u001b[1;33m-\u001b[0m\u001b[1;36m3\u001b[0m\u001b[1;33m,\u001b[0m \u001b[1;36m4\u001b[0m\u001b[1;33m)\u001b[0m\u001b[1;33m:\u001b[0m \u001b[1;31m# -3 -2 -1 0 1 2 3\u001b[0m\u001b[1;33m\u001b[0m\u001b[0m\n\u001b[0;32m      5\u001b[0m \u001b[1;33m\u001b[0m\u001b[0m\n\u001b[1;32m----> 6\u001b[1;33m     \u001b[0mprint\u001b[0m\u001b[1;33m(\u001b[0m\u001b[1;34m\"{:.3f}\"\u001b[0m\u001b[1;33m.\u001b[0m\u001b[0mformat\u001b[0m\u001b[1;33m(\u001b[0m\u001b[0msin\u001b[0m\u001b[1;33m(\u001b[0m\u001b[0mx\u001b[0m\u001b[1;33m)\u001b[0m\u001b[1;33m/\u001b[0m\u001b[0mx\u001b[0m\u001b[1;33m)\u001b[0m\u001b[1;33m,\u001b[0m \u001b[0mend\u001b[0m\u001b[1;33m=\u001b[0m\u001b[1;34m\" \"\u001b[0m\u001b[1;33m)\u001b[0m\u001b[1;33m\u001b[0m\u001b[0m\n\u001b[0m\u001b[0;32m      7\u001b[0m \u001b[1;33m\u001b[0m\u001b[0m\n\u001b[0;32m      8\u001b[0m \u001b[0mprint\u001b[0m\u001b[1;33m(\u001b[0m\u001b[1;33m)\u001b[0m\u001b[1;33m\u001b[0m\u001b[0m\n",
      "\u001b[1;31mZeroDivisionError\u001b[0m: float division by zero"
     ]
    }
   ],
   "source": [
    "# import\n",
    "from math import sin\n",
    "# programme principal -----------------------------------------------\n",
    "for x in range(-3, 4): # -3 -2 -1 0 1 2 3\n",
    "\n",
    "    print(\"{:.3f}\".format(sin(x)/x), end=\" \")\n",
    "\n",
    "print()"
   ]
  },
  {
   "cell_type": "code",
   "execution_count": 40,
   "metadata": {},
   "outputs": [
    {
     "name": "stdout",
     "output_type": "stream",
     "text": [
      "0.047 0.455 0.841 0.841 0.455 0.047 \n",
      "for x= 0 :  sin(x)/x= 1.000 "
     ]
    }
   ],
   "source": [
    "# import\n",
    "from math import sin\n",
    "# programme principal -----------------------------------------------\n",
    "for x in range(-3, 4): # -3 -2 -1 0 1 2 3\n",
    "    if x == 0: \n",
    "       continue\n",
    "    print(\"{:.3f}\".format(sin(x)/x), end=\" \")\n",
    "    \n",
    "print(\"\\nfor x= 0 :  sin(x)/x= {:.3f}\".format(float(1)), end=\" \")"
   ]
  },
  {
   "cell_type": "code",
   "execution_count": 19,
   "metadata": {},
   "outputs": [
    {
     "name": "stdout",
     "output_type": "stream",
     "text": [
      "0.047 0.455 0.841 1.000 0.841 0.455 0.047 \n"
     ]
    }
   ],
   "source": [
    "# import\n",
    "from math import sin\n",
    "# programme principal -----------------------------------------------\n",
    "for x in range(-3, 4): # -3 -2 -1 0 1 2 3\n",
    "    try:\n",
    "        print(\"{:.3f}\".format(sin(x)/x), end=\" \")\n",
    "    except:\n",
    "        print(\"{:.3f}\".format(float(1)), end=\" \")\n",
    "print()"
   ]
  },
  {
   "cell_type": "code",
   "execution_count": null,
   "metadata": {
    "collapsed": true
   },
   "outputs": [],
   "source": []
  }
 ],
 "metadata": {
  "kernelspec": {
   "display_name": "Python 3",
   "language": "python",
   "name": "python3"
  },
  "language_info": {
   "codemirror_mode": {
    "name": "ipython",
    "version": 3
   },
   "file_extension": ".py",
   "mimetype": "text/x-python",
   "name": "python",
   "nbconvert_exporter": "python",
   "pygments_lexer": "ipython3",
   "version": "3.6.3"
  }
 },
 "nbformat": 4,
 "nbformat_minor": 2
}
