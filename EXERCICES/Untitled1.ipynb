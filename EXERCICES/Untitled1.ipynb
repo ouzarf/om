{
 "cells": [
  {
   "cell_type": "code",
   "execution_count": null,
   "metadata": {
    "collapsed": true
   },
   "outputs": [],
   "source": [
    "C = input(\"introduire un mot suivi de 'Enter'\\n\")\n",
    "print(\"Le Mot entré est : \", C);\n"
   ]
  },
  {
   "cell_type": "code",
   "execution_count": null,
   "metadata": {
    "collapsed": true
   },
   "outputs": [],
   "source": [
    "from math import * \n",
    "print(\"Entrez les coordonnées du point A : XA,YA \");\n",
    "XA = float(input(\"Entrez les coordonnées du point XA: \"))\n",
    "YA= float(input(\"Entrez les coordonnées du point YA: \"))\n",
    "print()\n",
    "print()\n",
    "print(\"Entrez les coordonnées du point B : XB,YB \");\n",
    "XB = float(input(\"Entrez les coordonnées du point XB: \"))\n",
    "YB= float(input(\"Entrez les coordonnées du point YB: \"))    \n",
    "print()\n",
    "print()\n",
    "DIST=sqrt(pow(XA-XB,2)+pow(YA-YB,2));\n",
    "print(\"La distance entre A et B est :\", DIST);\n",
    "# print(\"\\n La distance entre A(%d,% d) et B(%d, %d) est %.2f\\n\",XA, YA, XB, YB, DIST);\n"
   ]
  },
  {
   "cell_type": "code",
   "execution_count": 4,
   "metadata": {},
   "outputs": [
    {
     "name": "stdout",
     "output_type": "stream",
     "text": [
      "Two or more numbers please (with a comma+space in between): 1 2 100\n",
      "1.0 2.0 100.0\n",
      "103.0\n",
      "-396.0\n"
     ]
    }
   ],
   "source": [
    "a,b,c =input('Two or more numbers please (with a comma+space in between): ').split()\n",
    "a=float(a)\n",
    "b= float(b)\n",
    "c= float(c)\n",
    "print(a, b,c)\n",
    "s=a+b+c\n",
    "\n",
    "print(s)\n",
    "\n",
    "D = b**2 - 4*a*c\n",
    "print(D)"
   ]
  },
  {
   "cell_type": "code",
   "execution_count": 9,
   "metadata": {},
   "outputs": [
    {
     "name": "stdout",
     "output_type": "stream",
     "text": [
      "-396.0\n",
      "Les solutions complexes de cette équation sont les suivantes :\n",
      "\n",
      "x1 =  (-1+9.9498743710662j)\n",
      "x2 =  (-1-9.9498743710662j)\n"
     ]
    }
   ],
   "source": [
    "from math import * \n",
    "from cmath import sqrt\n",
    "#/* Calcul du discriminant b^2-4ac */\n",
    "D = b**2 - 4*a*c\n",
    "print(D)\n",
    "print(\"Les solutions complexes de cette équation sont les suivantes :\\n\");\n",
    "print(\"x1 = \", (-b + sqrt((b**2 - 4*a*c)))/(2*a)) \n",
    "print(\"x2 = \", (-b - sqrt((b**2 - 4*a*c)))/(2*a)) "
   ]
  },
  {
   "cell_type": "code",
   "execution_count": 8,
   "metadata": {},
   "outputs": [
    {
     "name": "stdout",
     "output_type": "stream",
     "text": [
      "Les solutions reeles de cette équation sont les suivantes :\n",
      "\n"
     ]
    },
    {
     "ename": "ValueError",
     "evalue": "math domain error",
     "output_type": "error",
     "traceback": [
      "\u001b[1;31m---------------------------------------------------------------------------\u001b[0m",
      "\u001b[1;31mValueError\u001b[0m                                Traceback (most recent call last)",
      "\u001b[1;32m<ipython-input-8-fab3be6b9a52>\u001b[0m in \u001b[0;36m<module>\u001b[1;34m()\u001b[0m\n\u001b[0;32m      1\u001b[0m \u001b[1;32mfrom\u001b[0m \u001b[0mmath\u001b[0m \u001b[1;32mimport\u001b[0m \u001b[1;33m*\u001b[0m\u001b[1;33m\u001b[0m\u001b[0m\n\u001b[0;32m      2\u001b[0m \u001b[0mprint\u001b[0m\u001b[1;33m(\u001b[0m\u001b[1;34m\"Les solutions reeles de cette équation sont les suivantes :\\n\"\u001b[0m\u001b[1;33m)\u001b[0m\u001b[1;33m;\u001b[0m\u001b[1;33m\u001b[0m\u001b[0m\n\u001b[1;32m----> 3\u001b[1;33m \u001b[0mprint\u001b[0m\u001b[1;33m(\u001b[0m\u001b[1;34m\"x1 = \"\u001b[0m\u001b[1;33m,\u001b[0m \u001b[1;33m(\u001b[0m\u001b[1;33m-\u001b[0m\u001b[0mb\u001b[0m \u001b[1;33m+\u001b[0m \u001b[0msqrt\u001b[0m\u001b[1;33m(\u001b[0m\u001b[0mb\u001b[0m\u001b[1;33m**\u001b[0m\u001b[1;36m2\u001b[0m \u001b[1;33m-\u001b[0m \u001b[1;36m4\u001b[0m\u001b[1;33m*\u001b[0m\u001b[0ma\u001b[0m\u001b[1;33m*\u001b[0m\u001b[0mc\u001b[0m\u001b[1;33m)\u001b[0m\u001b[1;33m)\u001b[0m\u001b[1;33m/\u001b[0m\u001b[1;33m(\u001b[0m\u001b[1;36m2\u001b[0m\u001b[1;33m*\u001b[0m\u001b[0ma\u001b[0m\u001b[1;33m)\u001b[0m\u001b[1;33m)\u001b[0m\u001b[1;33m\u001b[0m\u001b[0m\n\u001b[0m\u001b[0;32m      4\u001b[0m \u001b[0mprint\u001b[0m\u001b[1;33m(\u001b[0m\u001b[1;34m\"x2 = \"\u001b[0m\u001b[1;33m,\u001b[0m \u001b[1;33m(\u001b[0m\u001b[1;33m-\u001b[0m\u001b[0mb\u001b[0m \u001b[1;33m-\u001b[0m \u001b[0msqrt\u001b[0m\u001b[1;33m(\u001b[0m\u001b[0mb\u001b[0m\u001b[1;33m**\u001b[0m\u001b[1;36m2\u001b[0m \u001b[1;33m-\u001b[0m \u001b[1;36m4\u001b[0m\u001b[1;33m*\u001b[0m\u001b[0ma\u001b[0m\u001b[1;33m*\u001b[0m\u001b[0mc\u001b[0m\u001b[1;33m)\u001b[0m\u001b[1;33m)\u001b[0m\u001b[1;33m/\u001b[0m\u001b[1;33m(\u001b[0m\u001b[1;36m2\u001b[0m\u001b[1;33m*\u001b[0m\u001b[0ma\u001b[0m\u001b[1;33m)\u001b[0m\u001b[1;33m)\u001b[0m\u001b[1;33m\u001b[0m\u001b[0m\n",
      "\u001b[1;31mValueError\u001b[0m: math domain error"
     ]
    }
   ],
   "source": [
    "from math import * \n",
    "print(\"Les solutions reeles de cette équation sont les suivantes :\\n\");\n",
    "print(\"x1 = \", (-b + sqrt(b**2 - 4*a*c))/(2*a)) \n",
    "print(\"x2 = \", (-b - sqrt(b**2 - 4*a*c))/(2*a)) "
   ]
  },
  {
   "cell_type": "code",
   "execution_count": null,
   "metadata": {
    "collapsed": true
   },
   "outputs": [],
   "source": [
    "# Calcul des solutions réelles et complexes d'une équation du second degré */\n",
    "\n",
    "\n",
    " /* Distinction des différents cas */\n",
    " if (A==0 && B==0 && C==0) /* 0x = 0 */\n",
    " printf(\"Tout réel est une solution de cette équation.\\n\");\n",
    " else if (A==0 && B==0) /* Contradiction: c # 0 et c = 0 */\n",
    " printf(\"Cette équation ne possède pas de solutions.\\n\");\n",
    " else if (A==0) /* bx + c = 0 */\n",
    " {\n",
    " printf(\"La solution de cette équation du premier degré est :\\n\");\n",
    " printf(\" x = %.4f\\n\", (double)C/B);\n",
    " }\n",
    " else if (D<0) /* b^2-4ac < 0 */\n",
    " {\n",
    " printf(\"Les solutions complexes de cette équation sont les suivantes :\\n\");\n",
    " printf(”x1 = %.4f + i%.4f\\n”, (double)(-B),(double)(sqrt(-D)/(2*A))) ;\n",
    " printf(”x2 = %.4f + i%.4f\\n”, (double)(-B),(double)(-sqrt(-D)/(2*A))) ;\n",
    " }\n",
    " else if (D==0) /* b^2-4ac = 0 */\n",
    " {\n",
    " printf(\"Cette équation a une seule solution réelle :\\n\");\n",
    " printf(\" x = %.4f\\n\", (double)-B/(2*A));\n",
    " }\n",
    " else /* b^2-4ac > 0 */\n",
    " {\n",
    " printf(\"Les solutions réelles de cette équation sont :\\n\");\n",
    " printf(\" x1 = %.4f\\n\", (double)(-B+sqrt(D))/(2*A));\n",
    " printf(\" x2 = %.4f\\n\", (double)(-B-sqrt(D))/(2*A));\n",
    " }"
   ]
  },
  {
   "cell_type": "code",
   "execution_count": null,
   "metadata": {
    "collapsed": true
   },
   "outputs": [],
   "source": []
  }
 ],
 "metadata": {
  "kernelspec": {
   "display_name": "Python 3",
   "language": "python",
   "name": "python3"
  },
  "language_info": {
   "codemirror_mode": {
    "name": "ipython",
    "version": 3
   },
   "file_extension": ".py",
   "mimetype": "text/x-python",
   "name": "python",
   "nbconvert_exporter": "python",
   "pygments_lexer": "ipython3",
   "version": "3.6.3"
  }
 },
 "nbformat": 4,
 "nbformat_minor": 2
}
